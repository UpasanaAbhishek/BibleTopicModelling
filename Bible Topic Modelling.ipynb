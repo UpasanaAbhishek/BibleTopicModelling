{
 "cells": [
  {
   "cell_type": "code",
   "execution_count": 1,
   "metadata": {},
   "outputs": [],
   "source": [
    "import pandas as pd\n",
    "from sklearn.feature_extraction.text import CountVectorizer\n",
    "from sklearn.decomposition import LatentDirichletAllocation\n",
    "import random"
   ]
  },
  {
   "cell_type": "markdown",
   "metadata": {},
   "source": [
    "Function to read the versions available."
   ]
  },
  {
   "cell_type": "code",
   "execution_count": 2,
   "metadata": {},
   "outputs": [],
   "source": [
    "def bible_version_information():\n",
    "    key = pd.read_csv(r'bible/bible_version_key.csv')\n",
    "    return display(key[[\"abbreviation\", \"version\"]])"
   ]
  },
  {
   "cell_type": "markdown",
   "metadata": {},
   "source": [
    "Function to read the version of Bible input by user"
   ]
  },
  {
   "cell_type": "code",
   "execution_count": 3,
   "metadata": {},
   "outputs": [],
   "source": [
    "def read_bible(version=\"KJV\"):\n",
    "    if version == \"darby\":\n",
    "        return pd.read_csv(r'bible/t_dby.csv', encoding='latin1')\n",
    "    return pd.read_csv(r'bible/t_'+version+'.csv')"
   ]
  },
  {
   "cell_type": "markdown",
   "metadata": {},
   "source": [
    "Function to display the versions available."
   ]
  },
  {
   "cell_type": "code",
   "execution_count": 4,
   "metadata": {},
   "outputs": [],
   "source": [
    "def display_bible(version):\n",
    "    bible_data = join_keys(read_bible(version))\n",
    "    return bible_data.head()"
   ]
  },
  {
   "cell_type": "markdown",
   "metadata": {},
   "source": [
    "Joining tables to create one dataframe."
   ]
  },
  {
   "cell_type": "code",
   "execution_count": 5,
   "metadata": {},
   "outputs": [],
   "source": [
    "def join_keys(bible_data):\n",
    "    key_english = pd.read_csv(r'bible/key_english.csv')\n",
    "    key_genre_english = pd.read_csv(r'bible/key_genre_english.csv')\n",
    "    bible = pd.merge(bible_data, key_english, on=['b'])\n",
    "    bible = pd.merge(bible, key_genre_english, on=['g'])\n",
    "    bible.columns = [\n",
    "    \"id\", \"book_number\", \"chapter_number\", \"verse_number\", \n",
    "     \"verse_text\", \"book_name\", \"testament\", \"genre_number\", \"genre_name\"]\n",
    "    return bible"
   ]
  },
  {
   "cell_type": "markdown",
   "metadata": {},
   "source": [
    "Function to flatten a list."
   ]
  },
  {
   "cell_type": "code",
   "execution_count": 6,
   "metadata": {},
   "outputs": [],
   "source": [
    "def flatten_list(input_list):\n",
    "    flat_list = []\n",
    "    for sublist in input_list:\n",
    "        for item in sublist:\n",
    "            flat_list.append(item)\n",
    "    return flat_list"
   ]
  },
  {
   "cell_type": "markdown",
   "metadata": {},
   "source": [
    "Function to prepare the data"
   ]
  },
  {
   "cell_type": "code",
   "execution_count": 7,
   "metadata": {},
   "outputs": [],
   "source": [
    "def prepare_data(bible):\n",
    "    #genre_name_list = bible.groupby([\"book_number\"]).max()[\"genre_name\"]\n",
    "    book_list = []\n",
    "    for book in bible[\"book_name\"].unique():\n",
    "        temp_data = bible[bible[\"book_name\"]==book]\n",
    "        temp_list = []\n",
    "        for chapter in temp_data[\"chapter_number\"].unique():\n",
    "            temp_chapters = temp_data[temp_data[\"chapter_number\"]==chapter]\n",
    "            temp = list(temp_data[temp_data[\"chapter_number\"]==chapter][\"verse_text\"])\n",
    "            temp = \" \".join(temp)\n",
    "            temp_list.append(temp)\n",
    "        book_list.append(temp_list)\n",
    "    chapters_list = []\n",
    "    for item in book_list:\n",
    "        chapters_list.append(\" \".join(item))\n",
    "    prepared_data = pd.DataFrame(pd.Series(chapters_list), columns = [\"text\"])\n",
    "    print(\"Prepared data:\")\n",
    "    display(prepared_data.head())\n",
    "    return prepared_data"
   ]
  },
  {
   "cell_type": "markdown",
   "metadata": {},
   "source": [
    "Function to preprocess the data"
   ]
  },
  {
   "cell_type": "code",
   "execution_count": 8,
   "metadata": {},
   "outputs": [],
   "source": [
    "def preprocess_data(input_data):\n",
    "    cv = CountVectorizer(max_df=0.95, min_df=10, stop_words='english')\n",
    "    dtm = cv.fit_transform(input_data['text'])\n",
    "    return dtm, cv"
   ]
  },
  {
   "cell_type": "markdown",
   "metadata": {},
   "source": [
    "Function to ask the user to input the number of topics to divide the books of the Bible into."
   ]
  },
  {
   "cell_type": "code",
   "execution_count": 9,
   "metadata": {},
   "outputs": [],
   "source": [
    "def choose_components():\n",
    "    print(\"Please choose the number of components. Enter 0 to choose default value.\")\n",
    "    components = int(input())\n",
    "    if components == 0:\n",
    "        components = 8\n",
    "    return components"
   ]
  },
  {
   "cell_type": "markdown",
   "metadata": {},
   "source": [
    "Function to perform Latent Dirichlet Allocation with the number of components from the previous step"
   ]
  },
  {
   "cell_type": "code",
   "execution_count": 10,
   "metadata": {},
   "outputs": [],
   "source": [
    "def perform_lda(dtm):\n",
    "    components = choose_components()\n",
    "    print(\"Now performing LDA. This may take a couple of minutes. Please wait.\")\n",
    "    LDA = LatentDirichletAllocation(n_components=8,random_state=42)\n",
    "    LDA.fit(dtm)\n",
    "    return LDA"
   ]
  },
  {
   "cell_type": "markdown",
   "metadata": {},
   "source": [
    "Printing Bible versions available."
   ]
  },
  {
   "cell_type": "code",
   "execution_count": 11,
   "metadata": {},
   "outputs": [
    {
     "data": {
      "text/html": [
       "<div>\n",
       "<style scoped>\n",
       "    .dataframe tbody tr th:only-of-type {\n",
       "        vertical-align: middle;\n",
       "    }\n",
       "\n",
       "    .dataframe tbody tr th {\n",
       "        vertical-align: top;\n",
       "    }\n",
       "\n",
       "    .dataframe thead th {\n",
       "        text-align: right;\n",
       "    }\n",
       "</style>\n",
       "<table border=\"1\" class=\"dataframe\">\n",
       "  <thead>\n",
       "    <tr style=\"text-align: right;\">\n",
       "      <th></th>\n",
       "      <th>abbreviation</th>\n",
       "      <th>version</th>\n",
       "    </tr>\n",
       "  </thead>\n",
       "  <tbody>\n",
       "    <tr>\n",
       "      <th>0</th>\n",
       "      <td>ASV</td>\n",
       "      <td>American Standard-ASV1901</td>\n",
       "    </tr>\n",
       "    <tr>\n",
       "      <th>1</th>\n",
       "      <td>BBE</td>\n",
       "      <td>Bible in Basic English</td>\n",
       "    </tr>\n",
       "    <tr>\n",
       "      <th>2</th>\n",
       "      <td>DARBY</td>\n",
       "      <td>Darby English Bible</td>\n",
       "    </tr>\n",
       "    <tr>\n",
       "      <th>3</th>\n",
       "      <td>KJV</td>\n",
       "      <td>King James Version</td>\n",
       "    </tr>\n",
       "    <tr>\n",
       "      <th>4</th>\n",
       "      <td>WBT</td>\n",
       "      <td>Webster's Bible</td>\n",
       "    </tr>\n",
       "    <tr>\n",
       "      <th>5</th>\n",
       "      <td>WEB</td>\n",
       "      <td>World English Bible</td>\n",
       "    </tr>\n",
       "    <tr>\n",
       "      <th>6</th>\n",
       "      <td>YLT</td>\n",
       "      <td>Young's Literal Translation</td>\n",
       "    </tr>\n",
       "  </tbody>\n",
       "</table>\n",
       "</div>"
      ],
      "text/plain": [
       "  abbreviation                      version\n",
       "0          ASV    American Standard-ASV1901\n",
       "1          BBE       Bible in Basic English\n",
       "2        DARBY          Darby English Bible\n",
       "3          KJV           King James Version\n",
       "4          WBT              Webster's Bible\n",
       "5          WEB          World English Bible\n",
       "6          YLT  Young's Literal Translation"
      ]
     },
     "metadata": {},
     "output_type": "display_data"
    }
   ],
   "source": [
    "bible_version_information()"
   ]
  },
  {
   "cell_type": "markdown",
   "metadata": {},
   "source": [
    "This is the main function. It calls rest of the functions in the notebook."
   ]
  },
  {
   "cell_type": "code",
   "execution_count": 12,
   "metadata": {},
   "outputs": [],
   "source": [
    "def lda_function():\n",
    "    print(\"Please choose a version:\")\n",
    "    version = input()\n",
    "    bible_data = join_keys(read_bible(version))\n",
    "    input_data = prepare_data(bible_data)\n",
    "    dtm, cv = preprocess_data(input_data)\n",
    "    lda = perform_lda(dtm)\n",
    "    return cv, lda, dtm, input_data"
   ]
  },
  {
   "cell_type": "code",
   "execution_count": 14,
   "metadata": {
    "scrolled": false
   },
   "outputs": [
    {
     "name": "stdout",
     "output_type": "stream",
     "text": [
      "Please choose a version:\n",
      "bbe\n",
      "Prepared data:\n"
     ]
    },
    {
     "data": {
      "text/html": [
       "<div>\n",
       "<style scoped>\n",
       "    .dataframe tbody tr th:only-of-type {\n",
       "        vertical-align: middle;\n",
       "    }\n",
       "\n",
       "    .dataframe tbody tr th {\n",
       "        vertical-align: top;\n",
       "    }\n",
       "\n",
       "    .dataframe thead th {\n",
       "        text-align: right;\n",
       "    }\n",
       "</style>\n",
       "<table border=\"1\" class=\"dataframe\">\n",
       "  <thead>\n",
       "    <tr style=\"text-align: right;\">\n",
       "      <th></th>\n",
       "      <th>text</th>\n",
       "    </tr>\n",
       "  </thead>\n",
       "  <tbody>\n",
       "    <tr>\n",
       "      <th>0</th>\n",
       "      <td>At the first God made the heaven and the earth...</td>\n",
       "    </tr>\n",
       "    <tr>\n",
       "      <th>1</th>\n",
       "      <td>Now these are the names of the sons of Israel ...</td>\n",
       "    </tr>\n",
       "    <tr>\n",
       "      <th>2</th>\n",
       "      <td>And the voice of the Lord came to Moses out of...</td>\n",
       "    </tr>\n",
       "    <tr>\n",
       "      <th>3</th>\n",
       "      <td>And the Lord said to Moses in the waste land o...</td>\n",
       "    </tr>\n",
       "    <tr>\n",
       "      <th>4</th>\n",
       "      <td>These are the words which Moses said to all Is...</td>\n",
       "    </tr>\n",
       "  </tbody>\n",
       "</table>\n",
       "</div>"
      ],
      "text/plain": [
       "                                                text\n",
       "0  At the first God made the heaven and the earth...\n",
       "1  Now these are the names of the sons of Israel ...\n",
       "2  And the voice of the Lord came to Moses out of...\n",
       "3  And the Lord said to Moses in the waste land o...\n",
       "4  These are the words which Moses said to all Is..."
      ]
     },
     "metadata": {},
     "output_type": "display_data"
    },
    {
     "name": "stdout",
     "output_type": "stream",
     "text": [
      "Please choose the number of components. Enter 0 to choose default value.\n",
      "7\n",
      "Now performing LDA. This may take a couple of minutes. Please wait.\n"
     ]
    }
   ],
   "source": [
    "cv, LDA, dtm, input_data = lda_function()"
   ]
  },
  {
   "cell_type": "markdown",
   "metadata": {},
   "source": [
    "## Showing Stored Words"
   ]
  },
  {
   "cell_type": "code",
   "execution_count": 18,
   "metadata": {},
   "outputs": [
    {
     "data": {
      "text/plain": [
       "1287"
      ]
     },
     "execution_count": 18,
     "metadata": {},
     "output_type": "execute_result"
    }
   ],
   "source": [
    "len(cv.get_feature_names())"
   ]
  },
  {
   "cell_type": "code",
   "execution_count": 19,
   "metadata": {},
   "outputs": [
    {
     "name": "stdout",
     "output_type": "stream",
     "text": [
      "bear\n",
      "nose\n",
      "discovery\n",
      "sorts\n",
      "conscious\n",
      "right\n",
      "hearted\n",
      "mark\n",
      "lord\n",
      "rolling\n"
     ]
    }
   ],
   "source": [
    "for i in range(10):\n",
    "    random_word_id = random.randint(0,len(cv.get_feature_names()))\n",
    "    print(cv.get_feature_names()[random_word_id])"
   ]
  },
  {
   "cell_type": "markdown",
   "metadata": {
    "collapsed": true
   },
   "source": [
    "### Showing Top Words Per Topic"
   ]
  },
  {
   "cell_type": "code",
   "execution_count": 20,
   "metadata": {},
   "outputs": [
    {
     "name": "stdout",
     "output_type": "stream",
     "text": [
      "mark\n",
      "women\n",
      "present\n",
      "decision\n",
      "window\n",
      "covers\n",
      "square\n",
      "building\n",
      "needed\n",
      "bag\n"
     ]
    }
   ],
   "source": [
    "for i in range(10):\n",
    "    random_word_id = random.randint(0,len(cv.get_feature_names()))\n",
    "    print(cv.get_feature_names()[random_word_id])"
   ]
  },
  {
   "cell_type": "code",
   "execution_count": 21,
   "metadata": {},
   "outputs": [
    {
     "data": {
      "text/plain": [
       "8"
      ]
     },
     "execution_count": 21,
     "metadata": {},
     "output_type": "execute_result"
    }
   ],
   "source": [
    "len(LDA.components_)"
   ]
  },
  {
   "cell_type": "code",
   "execution_count": 22,
   "metadata": {},
   "outputs": [
    {
     "data": {
      "text/plain": [
       "array([[1.78080698e-01, 2.70724758e+00, 1.36376041e+02, ...,\n",
       "        1.53866025e+00, 1.25005057e-01, 1.30069207e+00],\n",
       "       [1.25056115e-01, 1.09717196e+01, 2.39639223e+01, ...,\n",
       "        7.05323455e+00, 3.53932061e+00, 1.25024137e-01],\n",
       "       [3.31691885e+02, 8.48454053e-01, 6.42680282e+01, ...,\n",
       "        1.73487949e+01, 1.25120002e-01, 1.25021462e-01],\n",
       "       ...,\n",
       "       [1.34681159e-01, 1.25027966e-01, 6.49793870e+01, ...,\n",
       "        2.91279387e+00, 9.84402011e+00, 1.49868806e+02],\n",
       "       [1.25017976e-01, 1.25144299e-01, 7.77479420e+01, ...,\n",
       "        1.25083779e-01, 1.25004406e-01, 1.25090497e-01],\n",
       "       [7.02847351e+00, 8.97195493e+00, 7.72951487e+01, ...,\n",
       "        1.87709277e+01, 1.19914514e+01, 2.29917192e+00]])"
      ]
     },
     "execution_count": 22,
     "metadata": {},
     "output_type": "execute_result"
    }
   ],
   "source": [
    "LDA.components_"
   ]
  },
  {
   "cell_type": "code",
   "execution_count": 23,
   "metadata": {},
   "outputs": [],
   "source": [
    "single_topic = LDA.components_[0]"
   ]
  },
  {
   "cell_type": "code",
   "execution_count": 24,
   "metadata": {},
   "outputs": [
    {
     "data": {
      "text/plain": [
       "array([ 629,   65, 1160, ...,  543,  128,  915], dtype=int64)"
      ]
     },
     "execution_count": 24,
     "metadata": {},
     "output_type": "execute_result"
    }
   ],
   "source": [
    "# Returns the indices that would sort this array.\n",
    "single_topic.argsort()"
   ]
  },
  {
   "cell_type": "code",
   "execution_count": 25,
   "metadata": {},
   "outputs": [],
   "source": [
    "top_word_indices = single_topic.argsort()[-20:]"
   ]
  },
  {
   "cell_type": "code",
   "execution_count": 26,
   "metadata": {},
   "outputs": [
    {
     "name": "stdout",
     "output_type": "stream",
     "text": [
      "answer\n",
      "house\n",
      "time\n",
      "death\n",
      "knowledge\n",
      "saw\n",
      "sent\n",
      "father\n",
      "saying\n",
      "things\n",
      "people\n",
      "took\n",
      "son\n",
      "away\n",
      "gave\n",
      "man\n",
      "went\n",
      "jesus\n",
      "came\n",
      "said\n"
     ]
    }
   ],
   "source": [
    "for index in top_word_indices:\n",
    "    print(cv.get_feature_names()[index])"
   ]
  },
  {
   "cell_type": "code",
   "execution_count": 27,
   "metadata": {},
   "outputs": [
    {
     "data": {
      "text/plain": [
       "array([ 775, 1128, 1008,   51,  416,  640, 1225,  543,  128,  915],\n",
       "      dtype=int64)"
      ]
     },
     "execution_count": 27,
     "metadata": {},
     "output_type": "execute_result"
    }
   ],
   "source": [
    "# Top 10 words for this topic:\n",
    "single_topic.argsort()[-10:]"
   ]
  },
  {
   "cell_type": "markdown",
   "metadata": {},
   "source": [
    "These look like business articles perhaps... Let's confirm by using .transform() on our vectorized articles to attach a label number. But first, let's view all the 10 topics found."
   ]
  },
  {
   "cell_type": "code",
   "execution_count": 28,
   "metadata": {
    "scrolled": false
   },
   "outputs": [
    {
     "name": "stdout",
     "output_type": "stream",
     "text": [
      "The most common words for topic #0\n",
      "['jews', 'life', 'spirit', 'faith', 'number', 'evil', 'dead', 'got', 'food', 'day', 'did', 'place', 'heaven', 'words', 'lord', 'answer', 'house', 'time', 'death', 'knowledge', 'saw', 'sent', 'father', 'saying', 'things', 'people', 'took', 'son', 'away', 'gave', 'man', 'went', 'jesus', 'came', 'said']\n",
      "\n",
      "\n",
      "The most common words for topic #1\n",
      "['brothers', 'sent', 'house', 'good', 'isaac', 'away', 'food', 'egypt', 'children', 'birth', 'saw', 'pharaoh', 'death', 'blessing', 'brother', 'place', 'years', 'servant', 'abraham', 'living', 'man', 'earth', 'joseph', 'wife', 'sons', 'son', 'took', 'jacob', 'lord', 'land', 'came', 'went', 'father', 'gave', 'said']\n",
      "\n",
      "\n",
      "The most common words for topic #2\n",
      "['food', 'meal', 'work', 'house', 'away', 'blood', 'gave', 'meeting', 'came', 'egypt', 'orders', 'altar', 'took', 'son', 'tent', 'burned', 'sons', 'unclean', 'place', 'sin', 'went', 'day', 'priest', 'death', 'aaron', 'man', 'holy', 'people', 'said', 'israel', 'land', 'children', 'moses', 'offering', 'lord']\n",
      "\n",
      "\n",
      "The most common words for topic #3\n",
      "['grace', 'orders', 'david', 'right', 'hope', 'joy', 'came', 'clear', 'death', 'day', 'having', 'way', 'mind', 'evil', 'knowledge', 'living', 'heart', 'spirit', 'power', 'brothers', 'righteousness', 'jesus', 'paul', 'glory', 'salvation', 'mercy', 'gave', 'law', 'things', 'christ', 'good', 'holy', 'praise', 'faith', 'lord']\n",
      "\n",
      "\n",
      "The most common words for topic #4\n",
      "['voice', 'rulers', 'book', 'month', 'end', 'town', 'seat', 'death', 'days', 'order', 'beast', 'took', 'people', 'sent', 'clear', 'power', 'place', 'gold', 'went', 'servants', 'angel', 'house', 'day', 'high', 'jews', 'seven', 'time', 'heaven', 'earth', 'kingdom', 'gave', 'saw', 'came', 'said', 'king']\n",
      "\n",
      "\n",
      "The most common words for topic #5\n",
      "['king', 'gone', 'heart', 'voice', 'way', 'broken', 'armies', 'end', 'hands', 'destruction', 'eyes', 'turned', 'ear', 'hand', 'israel', 'words', 'send', 'food', 'nations', 'cause', 'taken', 'fear', 'waste', 'day', 'said', 'says', 'place', 'earth', 'away', 'people', 'man', 'evil', 'land', 'like', 'lord']\n",
      "\n",
      "\n",
      "The most common words for topic #6\n",
      "['jesus', 'time', 'cause', 'faith', 'power', 'sin', 'wealth', 'like', 'body', 'comes', 'flesh', 'desire', 'upright', 'does', 'makes', 'work', 'wisdom', 'right', 'gives', 'heart', 'true', 'death', 'words', 'wise', 'spirit', 'foolish', 'way', 'life', 'love', 'christ', 'good', 'things', 'knowledge', 'evil', 'man']\n",
      "\n",
      "\n",
      "The most common words for topic #7\n",
      "['saying', 'thousand', 'solomon', 'servant', 'got', 'towns', 'war', 'living', 'day', 'servants', 'away', 'man', 'town', 'father', 'jerusalem', 'land', 'sent', 'did', 'place', 'death', 'sons', 'judah', 'children', 'gave', 'took', 'house', 'people', 'came', 'david', 'went', 'son', 'israel', 'said', 'king', 'lord']\n",
      "\n",
      "\n"
     ]
    }
   ],
   "source": [
    "for index,topic in enumerate(LDA.components_):\n",
    "    print(f'The most common words for topic #{index}')\n",
    "    print([cv.get_feature_names()[i] for i in topic.argsort()[-35:]])\n",
    "    print('\\n')"
   ]
  },
  {
   "cell_type": "markdown",
   "metadata": {},
   "source": [
    "### Attaching Discovered Topic Labels to Original Articles"
   ]
  },
  {
   "cell_type": "code",
   "execution_count": 29,
   "metadata": {},
   "outputs": [],
   "source": [
    "topic_results = LDA.transform(dtm)"
   ]
  },
  {
   "cell_type": "code",
   "execution_count": 30,
   "metadata": {},
   "outputs": [
    {
     "data": {
      "text/plain": [
       "(66, 8)"
      ]
     },
     "execution_count": 30,
     "metadata": {},
     "output_type": "execute_result"
    }
   ],
   "source": [
    "topic_results.shape"
   ]
  },
  {
   "cell_type": "markdown",
   "metadata": {},
   "source": [
    "### Combining with Original Data"
   ]
  },
  {
   "cell_type": "code",
   "execution_count": 31,
   "metadata": {},
   "outputs": [
    {
     "data": {
      "text/html": [
       "<div>\n",
       "<style scoped>\n",
       "    .dataframe tbody tr th:only-of-type {\n",
       "        vertical-align: middle;\n",
       "    }\n",
       "\n",
       "    .dataframe tbody tr th {\n",
       "        vertical-align: top;\n",
       "    }\n",
       "\n",
       "    .dataframe thead th {\n",
       "        text-align: right;\n",
       "    }\n",
       "</style>\n",
       "<table border=\"1\" class=\"dataframe\">\n",
       "  <thead>\n",
       "    <tr style=\"text-align: right;\">\n",
       "      <th></th>\n",
       "      <th>text</th>\n",
       "    </tr>\n",
       "  </thead>\n",
       "  <tbody>\n",
       "    <tr>\n",
       "      <th>0</th>\n",
       "      <td>At the first God made the heaven and the earth...</td>\n",
       "    </tr>\n",
       "    <tr>\n",
       "      <th>1</th>\n",
       "      <td>Now these are the names of the sons of Israel ...</td>\n",
       "    </tr>\n",
       "    <tr>\n",
       "      <th>2</th>\n",
       "      <td>And the voice of the Lord came to Moses out of...</td>\n",
       "    </tr>\n",
       "    <tr>\n",
       "      <th>3</th>\n",
       "      <td>And the Lord said to Moses in the waste land o...</td>\n",
       "    </tr>\n",
       "    <tr>\n",
       "      <th>4</th>\n",
       "      <td>These are the words which Moses said to all Is...</td>\n",
       "    </tr>\n",
       "  </tbody>\n",
       "</table>\n",
       "</div>"
      ],
      "text/plain": [
       "                                                text\n",
       "0  At the first God made the heaven and the earth...\n",
       "1  Now these are the names of the sons of Israel ...\n",
       "2  And the voice of the Lord came to Moses out of...\n",
       "3  And the Lord said to Moses in the waste land o...\n",
       "4  These are the words which Moses said to all Is..."
      ]
     },
     "execution_count": 31,
     "metadata": {},
     "output_type": "execute_result"
    }
   ],
   "source": [
    "input_data.head()"
   ]
  },
  {
   "cell_type": "code",
   "execution_count": 32,
   "metadata": {},
   "outputs": [
    {
     "data": {
      "text/plain": [
       "array([1, 2, 2, 2, 5, 7, 7, 1, 7, 7, 7, 7, 7, 7, 7, 7, 4, 5, 5, 6, 6, 5,\n",
       "       5, 5, 5, 5, 4, 5, 5, 5, 5, 5, 5, 5, 5, 5, 5, 5, 5, 0, 0, 0, 0, 0,\n",
       "       3, 6, 6, 3, 3, 3, 3, 3, 3, 6, 3, 6, 3, 3, 6, 6, 6, 6, 6, 6, 3, 4],\n",
       "      dtype=int64)"
      ]
     },
     "execution_count": 32,
     "metadata": {},
     "output_type": "execute_result"
    }
   ],
   "source": [
    "topic_results.argmax(axis=1)"
   ]
  },
  {
   "cell_type": "code",
   "execution_count": 33,
   "metadata": {},
   "outputs": [
    {
     "data": {
      "text/plain": [
       "66"
      ]
     },
     "execution_count": 33,
     "metadata": {},
     "output_type": "execute_result"
    }
   ],
   "source": [
    "len(topic_results.argmax(axis=1))"
   ]
  },
  {
   "cell_type": "code",
   "execution_count": 34,
   "metadata": {},
   "outputs": [
    {
     "data": {
      "text/plain": [
       "(66, 1)"
      ]
     },
     "execution_count": 34,
     "metadata": {},
     "output_type": "execute_result"
    }
   ],
   "source": [
    "input_data.shape"
   ]
  },
  {
   "cell_type": "code",
   "execution_count": 35,
   "metadata": {},
   "outputs": [],
   "source": [
    "input_data['Topic'] = topic_results.argmax(axis=1)"
   ]
  },
  {
   "cell_type": "markdown",
   "metadata": {},
   "source": [
    "The reult is stored in input_data. Here are the first few rows."
   ]
  },
  {
   "cell_type": "code",
   "execution_count": 36,
   "metadata": {},
   "outputs": [
    {
     "data": {
      "text/html": [
       "<div>\n",
       "<style scoped>\n",
       "    .dataframe tbody tr th:only-of-type {\n",
       "        vertical-align: middle;\n",
       "    }\n",
       "\n",
       "    .dataframe tbody tr th {\n",
       "        vertical-align: top;\n",
       "    }\n",
       "\n",
       "    .dataframe thead th {\n",
       "        text-align: right;\n",
       "    }\n",
       "</style>\n",
       "<table border=\"1\" class=\"dataframe\">\n",
       "  <thead>\n",
       "    <tr style=\"text-align: right;\">\n",
       "      <th></th>\n",
       "      <th>text</th>\n",
       "      <th>Topic</th>\n",
       "    </tr>\n",
       "  </thead>\n",
       "  <tbody>\n",
       "    <tr>\n",
       "      <th>0</th>\n",
       "      <td>At the first God made the heaven and the earth...</td>\n",
       "      <td>1</td>\n",
       "    </tr>\n",
       "    <tr>\n",
       "      <th>1</th>\n",
       "      <td>Now these are the names of the sons of Israel ...</td>\n",
       "      <td>2</td>\n",
       "    </tr>\n",
       "    <tr>\n",
       "      <th>2</th>\n",
       "      <td>And the voice of the Lord came to Moses out of...</td>\n",
       "      <td>2</td>\n",
       "    </tr>\n",
       "    <tr>\n",
       "      <th>3</th>\n",
       "      <td>And the Lord said to Moses in the waste land o...</td>\n",
       "      <td>2</td>\n",
       "    </tr>\n",
       "    <tr>\n",
       "      <th>4</th>\n",
       "      <td>These are the words which Moses said to all Is...</td>\n",
       "      <td>5</td>\n",
       "    </tr>\n",
       "    <tr>\n",
       "      <th>5</th>\n",
       "      <td>Now after the death of Moses, the servant of t...</td>\n",
       "      <td>7</td>\n",
       "    </tr>\n",
       "    <tr>\n",
       "      <th>6</th>\n",
       "      <td>Now after the death of Joshua, the children of...</td>\n",
       "      <td>7</td>\n",
       "    </tr>\n",
       "    <tr>\n",
       "      <th>7</th>\n",
       "      <td>Now there came a time, in the days of the judg...</td>\n",
       "      <td>1</td>\n",
       "    </tr>\n",
       "    <tr>\n",
       "      <th>8</th>\n",
       "      <td>Now there was a certain man of Ramathaim, a Zu...</td>\n",
       "      <td>7</td>\n",
       "    </tr>\n",
       "    <tr>\n",
       "      <th>9</th>\n",
       "      <td>Now after the death of Saul, when David, havin...</td>\n",
       "      <td>7</td>\n",
       "    </tr>\n",
       "  </tbody>\n",
       "</table>\n",
       "</div>"
      ],
      "text/plain": [
       "                                                text  Topic\n",
       "0  At the first God made the heaven and the earth...      1\n",
       "1  Now these are the names of the sons of Israel ...      2\n",
       "2  And the voice of the Lord came to Moses out of...      2\n",
       "3  And the Lord said to Moses in the waste land o...      2\n",
       "4  These are the words which Moses said to all Is...      5\n",
       "5  Now after the death of Moses, the servant of t...      7\n",
       "6  Now after the death of Joshua, the children of...      7\n",
       "7  Now there came a time, in the days of the judg...      1\n",
       "8  Now there was a certain man of Ramathaim, a Zu...      7\n",
       "9  Now after the death of Saul, when David, havin...      7"
      ]
     },
     "execution_count": 36,
     "metadata": {},
     "output_type": "execute_result"
    }
   ],
   "source": [
    "input_data.head(10)"
   ]
  }
 ],
 "metadata": {
  "kernelspec": {
   "display_name": "Python 3",
   "language": "python",
   "name": "python3"
  },
  "language_info": {
   "codemirror_mode": {
    "name": "ipython",
    "version": 3
   },
   "file_extension": ".py",
   "mimetype": "text/x-python",
   "name": "python",
   "nbconvert_exporter": "python",
   "pygments_lexer": "ipython3",
   "version": "3.7.1"
  }
 },
 "nbformat": 4,
 "nbformat_minor": 2
}
