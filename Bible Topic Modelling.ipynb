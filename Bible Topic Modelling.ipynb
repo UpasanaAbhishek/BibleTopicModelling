{
 "cells": [
  {
   "cell_type": "code",
   "execution_count": 1,
   "metadata": {},
   "outputs": [],
   "source": [
    "import pandas as pd\n",
    "from sklearn.feature_extraction.text import CountVectorizer\n",
    "from sklearn.decomposition import LatentDirichletAllocation\n",
    "import random"
   ]
  },
  {
   "cell_type": "code",
   "execution_count": 2,
   "metadata": {},
   "outputs": [],
   "source": [
    "def bible_version_information():\n",
    "    key = pd.read_csv(r'bible/bible_version_key.csv')\n",
    "    return display(key[[\"abbreviation\", \"version\"]])\n",
    "\n",
    "def read_bible(version=\"KJV\"):\n",
    "    if version == \"darby\":\n",
    "        return pd.read_csv(r'bible/t_dby.csv', encoding='latin1')\n",
    "    return pd.read_csv(r'bible/t_'+version+'.csv')\n",
    "\n",
    "def display_bible(version):\n",
    "    bible_data = join_keys(read_bible(version))\n",
    "    return bible_data.head()\n",
    "\n",
    "def join_keys(bible_data):\n",
    "    key_english = pd.read_csv(r'bible/key_english.csv')\n",
    "    key_genre_english = pd.read_csv(r'bible/key_genre_english.csv')\n",
    "    bible = pd.merge(bible_data, key_english, on=['b'])\n",
    "    bible = pd.merge(bible, key_genre_english, on=['g'])\n",
    "    bible.columns = [\n",
    "    \"id\", \"book_number\", \"chapter_number\", \"verse_number\", \n",
    "     \"verse_text\", \"book_name\", \"testament\", \"genre_number\", \"genre_name\"]\n",
    "    return bible\n",
    "\n",
    "def flatten_list(input_list):\n",
    "    flat_list = []\n",
    "    for sublist in input_list:\n",
    "        for item in sublist:\n",
    "            flat_list.append(item)\n",
    "    return flat_list\n",
    "\n",
    "def prepare_data(bible):\n",
    "    #genre_name_list = bible.groupby([\"book_number\"]).max()[\"genre_name\"]\n",
    "    book_list = []\n",
    "    for book in bible[\"book_name\"].unique():\n",
    "        temp_data = bible[bible[\"book_name\"]==book]\n",
    "        temp_list = []\n",
    "        for chapter in temp_data[\"chapter_number\"].unique():\n",
    "            temp_chapters = temp_data[temp_data[\"chapter_number\"]==chapter]\n",
    "            temp = list(temp_data[temp_data[\"chapter_number\"]==chapter][\"verse_text\"])\n",
    "            temp = \" \".join(temp)\n",
    "            temp_list.append(temp)\n",
    "        book_list.append(temp_list)\n",
    "    chapters_list = []\n",
    "    for item in book_list:\n",
    "        chapters_list.append(\" \".join(item))\n",
    "    prepared_data = pd.DataFrame(pd.Series(chapters_list), columns = [\"text\"])\n",
    "    print(\"Prepared data:\")\n",
    "    display(prepared_data.head())\n",
    "    return prepared_data\n",
    "\n",
    "def preprocess_data(input_data):\n",
    "    cv = CountVectorizer(max_df=0.95, min_df=10, stop_words='english')\n",
    "    dtm = cv.fit_transform(input_data['text'])\n",
    "    return dtm, cv\n",
    "\n",
    "def choose_components():\n",
    "    print(\"Please choose the number of components. Enter 0 to choose default value.\")\n",
    "    components = int(input())\n",
    "    if components == 0:\n",
    "        components = 8\n",
    "    return components\n",
    "\n",
    "def perform_lda(dtm):\n",
    "    components = choose_components()\n",
    "    print(\"Now performing LDA. This may take a couple of minutes. Please wait.\")\n",
    "    LDA = LatentDirichletAllocation(n_components=8,random_state=42)\n",
    "    LDA.fit(dtm)\n",
    "    return LDA\n",
    "    "
   ]
  },
  {
   "cell_type": "code",
   "execution_count": 3,
   "metadata": {},
   "outputs": [
    {
     "data": {
      "text/html": [
       "<div>\n",
       "<style scoped>\n",
       "    .dataframe tbody tr th:only-of-type {\n",
       "        vertical-align: middle;\n",
       "    }\n",
       "\n",
       "    .dataframe tbody tr th {\n",
       "        vertical-align: top;\n",
       "    }\n",
       "\n",
       "    .dataframe thead th {\n",
       "        text-align: right;\n",
       "    }\n",
       "</style>\n",
       "<table border=\"1\" class=\"dataframe\">\n",
       "  <thead>\n",
       "    <tr style=\"text-align: right;\">\n",
       "      <th></th>\n",
       "      <th>abbreviation</th>\n",
       "      <th>version</th>\n",
       "    </tr>\n",
       "  </thead>\n",
       "  <tbody>\n",
       "    <tr>\n",
       "      <th>0</th>\n",
       "      <td>ASV</td>\n",
       "      <td>American Standard-ASV1901</td>\n",
       "    </tr>\n",
       "    <tr>\n",
       "      <th>1</th>\n",
       "      <td>BBE</td>\n",
       "      <td>Bible in Basic English</td>\n",
       "    </tr>\n",
       "    <tr>\n",
       "      <th>2</th>\n",
       "      <td>DARBY</td>\n",
       "      <td>Darby English Bible</td>\n",
       "    </tr>\n",
       "    <tr>\n",
       "      <th>3</th>\n",
       "      <td>KJV</td>\n",
       "      <td>King James Version</td>\n",
       "    </tr>\n",
       "    <tr>\n",
       "      <th>4</th>\n",
       "      <td>WBT</td>\n",
       "      <td>Webster's Bible</td>\n",
       "    </tr>\n",
       "    <tr>\n",
       "      <th>5</th>\n",
       "      <td>WEB</td>\n",
       "      <td>World English Bible</td>\n",
       "    </tr>\n",
       "    <tr>\n",
       "      <th>6</th>\n",
       "      <td>YLT</td>\n",
       "      <td>Young's Literal Translation</td>\n",
       "    </tr>\n",
       "  </tbody>\n",
       "</table>\n",
       "</div>"
      ],
      "text/plain": [
       "  abbreviation                      version\n",
       "0          ASV    American Standard-ASV1901\n",
       "1          BBE       Bible in Basic English\n",
       "2        DARBY          Darby English Bible\n",
       "3          KJV           King James Version\n",
       "4          WBT              Webster's Bible\n",
       "5          WEB          World English Bible\n",
       "6          YLT  Young's Literal Translation"
      ]
     },
     "metadata": {},
     "output_type": "display_data"
    }
   ],
   "source": [
    "bible_version_information()"
   ]
  },
  {
   "cell_type": "code",
   "execution_count": 4,
   "metadata": {},
   "outputs": [],
   "source": [
    "def lda_function():\n",
    "    print(\"Please choose a version:\")\n",
    "    version = input()\n",
    "    bible_data = join_keys(read_bible(version))\n",
    "    input_data = prepare_data(bible_data)\n",
    "    dtm, cv = preprocess_data(input_data)\n",
    "    lda = perform_lda(dtm)\n",
    "    return cv, lda, dtm, input_data"
   ]
  },
  {
   "cell_type": "code",
   "execution_count": 5,
   "metadata": {
    "scrolled": false
   },
   "outputs": [
    {
     "name": "stdout",
     "output_type": "stream",
     "text": [
      "Please choose a version:\n",
      "KJV\n",
      "Prepared data:\n"
     ]
    },
    {
     "data": {
      "text/html": [
       "<div>\n",
       "<style scoped>\n",
       "    .dataframe tbody tr th:only-of-type {\n",
       "        vertical-align: middle;\n",
       "    }\n",
       "\n",
       "    .dataframe tbody tr th {\n",
       "        vertical-align: top;\n",
       "    }\n",
       "\n",
       "    .dataframe thead th {\n",
       "        text-align: right;\n",
       "    }\n",
       "</style>\n",
       "<table border=\"1\" class=\"dataframe\">\n",
       "  <thead>\n",
       "    <tr style=\"text-align: right;\">\n",
       "      <th></th>\n",
       "      <th>text</th>\n",
       "    </tr>\n",
       "  </thead>\n",
       "  <tbody>\n",
       "    <tr>\n",
       "      <th>0</th>\n",
       "      <td>In the beginning God created the heaven and th...</td>\n",
       "    </tr>\n",
       "    <tr>\n",
       "      <th>1</th>\n",
       "      <td>Now these are the names of the children of Isr...</td>\n",
       "    </tr>\n",
       "    <tr>\n",
       "      <th>2</th>\n",
       "      <td>And the LORD called unto Moses, and spake unto...</td>\n",
       "    </tr>\n",
       "    <tr>\n",
       "      <th>3</th>\n",
       "      <td>And the LORD spake unto Moses in the wildernes...</td>\n",
       "    </tr>\n",
       "    <tr>\n",
       "      <th>4</th>\n",
       "      <td>These be the words which Moses spake unto all ...</td>\n",
       "    </tr>\n",
       "  </tbody>\n",
       "</table>\n",
       "</div>"
      ],
      "text/plain": [
       "                                                text\n",
       "0  In the beginning God created the heaven and th...\n",
       "1  Now these are the names of the children of Isr...\n",
       "2  And the LORD called unto Moses, and spake unto...\n",
       "3  And the LORD spake unto Moses in the wildernes...\n",
       "4  These be the words which Moses spake unto all ..."
      ]
     },
     "metadata": {},
     "output_type": "display_data"
    },
    {
     "name": "stdout",
     "output_type": "stream",
     "text": [
      "Please choose the number of components. Enter 0 to choose default value.\n",
      "0\n",
      "Now performing LDA. This may take a couple of minutes. Please wait.\n"
     ]
    }
   ],
   "source": [
    "cv, LDA, dtm, input_data = lda_function()"
   ]
  },
  {
   "cell_type": "markdown",
   "metadata": {},
   "source": [
    "## Showing Stored Words"
   ]
  },
  {
   "cell_type": "code",
   "execution_count": 6,
   "metadata": {},
   "outputs": [
    {
     "data": {
      "text/plain": [
       "1946"
      ]
     },
     "execution_count": 6,
     "metadata": {},
     "output_type": "execute_result"
    }
   ],
   "source": [
    "len(cv.get_feature_names())"
   ]
  },
  {
   "cell_type": "code",
   "execution_count": 7,
   "metadata": {},
   "outputs": [
    {
     "name": "stdout",
     "output_type": "stream",
     "text": [
      "famine\n",
      "cedars\n",
      "ways\n",
      "summer\n",
      "prophesied\n",
      "sorrows\n",
      "paths\n",
      "present\n",
      "furthermore\n",
      "multiply\n"
     ]
    }
   ],
   "source": [
    "for i in range(10):\n",
    "    random_word_id = random.randint(0,len(cv.get_feature_names()))\n",
    "    print(cv.get_feature_names()[random_word_id])"
   ]
  },
  {
   "cell_type": "code",
   "execution_count": 8,
   "metadata": {},
   "outputs": [
    {
     "name": "stdout",
     "output_type": "stream",
     "text": [
      "nay\n",
      "solemn\n",
      "raised\n",
      "glorified\n",
      "continue\n",
      "assyria\n",
      "son\n",
      "levi\n",
      "appoint\n",
      "humble\n"
     ]
    }
   ],
   "source": [
    "for i in range(10):\n",
    "    random_word_id = random.randint(0,len(cv.get_feature_names()))\n",
    "    print(cv.get_feature_names()[random_word_id])"
   ]
  },
  {
   "cell_type": "markdown",
   "metadata": {
    "collapsed": true
   },
   "source": [
    "### Showing Top Words Per Topic"
   ]
  },
  {
   "cell_type": "code",
   "execution_count": 9,
   "metadata": {},
   "outputs": [
    {
     "data": {
      "text/plain": [
       "8"
      ]
     },
     "execution_count": 9,
     "metadata": {},
     "output_type": "execute_result"
    }
   ],
   "source": [
    "len(LDA.components_)"
   ]
  },
  {
   "cell_type": "code",
   "execution_count": 10,
   "metadata": {},
   "outputs": [
    {
     "data": {
      "text/plain": [
       "array([[1.25193420e-01, 1.25027620e-01, 1.25041156e-01, ...,\n",
       "        1.25032848e-01, 1.25031671e-01, 1.25014325e-01],\n",
       "       [1.09114091e+01, 3.71304557e+00, 6.86367399e+00, ...,\n",
       "        1.48284824e+00, 1.25158677e-01, 1.26535941e+02],\n",
       "       [1.25027767e-01, 3.03752170e+00, 1.28794580e+00, ...,\n",
       "        4.15272766e+00, 1.17305180e+01, 2.58679002e+01],\n",
       "       ...,\n",
       "       [7.97814537e+00, 3.87368065e+00, 1.83608483e+00, ...,\n",
       "        4.64545118e+00, 1.25047600e-01, 1.25019765e-01],\n",
       "       [1.25003074e-01, 4.87510425e+00, 1.91003562e+00, ...,\n",
       "        1.25001617e-01, 1.25009217e-01, 1.25008473e-01],\n",
       "       [1.25201709e-01, 1.25502361e-01, 1.25004600e-01, ...,\n",
       "        1.25006500e-01, 1.25011925e-01, 1.25011078e-01]])"
      ]
     },
     "execution_count": 10,
     "metadata": {},
     "output_type": "execute_result"
    }
   ],
   "source": [
    "LDA.components_"
   ]
  },
  {
   "cell_type": "code",
   "execution_count": 11,
   "metadata": {},
   "outputs": [
    {
     "data": {
      "text/plain": [
       "1946"
      ]
     },
     "execution_count": 11,
     "metadata": {},
     "output_type": "execute_result"
    }
   ],
   "source": [
    "len(LDA.components_[0])"
   ]
  },
  {
   "cell_type": "code",
   "execution_count": 12,
   "metadata": {},
   "outputs": [],
   "source": [
    "single_topic = LDA.components_[0]"
   ]
  },
  {
   "cell_type": "code",
   "execution_count": 13,
   "metadata": {},
   "outputs": [
    {
     "data": {
      "text/plain": [
       "array([ 997, 1172,  739, ..., 1708, 1933, 1416], dtype=int64)"
      ]
     },
     "execution_count": 13,
     "metadata": {},
     "output_type": "execute_result"
    }
   ],
   "source": [
    "# Returns the indices that would sort this array.\n",
    "single_topic.argsort()"
   ]
  },
  {
   "cell_type": "code",
   "execution_count": 14,
   "metadata": {},
   "outputs": [
    {
     "data": {
      "text/plain": [
       "0.12500060696406734"
      ]
     },
     "execution_count": 14,
     "metadata": {},
     "output_type": "execute_result"
    }
   ],
   "source": [
    "# Word least representative of this topic\n",
    "single_topic[single_topic.argsort()[0]]"
   ]
  },
  {
   "cell_type": "code",
   "execution_count": 15,
   "metadata": {},
   "outputs": [
    {
     "data": {
      "text/plain": [
       "0.12501432484445793"
      ]
     },
     "execution_count": 15,
     "metadata": {},
     "output_type": "execute_result"
    }
   ],
   "source": [
    "# Word most representative of this topic\n",
    "single_topic[single_topic.argsort().max()]"
   ]
  },
  {
   "cell_type": "code",
   "execution_count": 16,
   "metadata": {},
   "outputs": [
    {
     "data": {
      "text/plain": [
       "array([1438, 1694,  575, 1440,  226, 1029,  888, 1708, 1933, 1416],\n",
       "      dtype=int64)"
      ]
     },
     "execution_count": 16,
     "metadata": {},
     "output_type": "execute_result"
    }
   ],
   "source": [
    "# Top 10 words for this topic:\n",
    "single_topic.argsort()[-10:]"
   ]
  },
  {
   "cell_type": "code",
   "execution_count": 17,
   "metadata": {},
   "outputs": [],
   "source": [
    "top_word_indices = single_topic.argsort()[-20:]"
   ]
  },
  {
   "cell_type": "code",
   "execution_count": 18,
   "metadata": {},
   "outputs": [
    {
     "name": "stdout",
     "output_type": "stream",
     "text": [
      "sent\n",
      "behold\n",
      "day\n",
      "saw\n",
      "answered\n",
      "saith\n",
      "things\n",
      "thy\n",
      "went\n",
      "son\n",
      "say\n",
      "thee\n",
      "father\n",
      "saying\n",
      "came\n",
      "man\n",
      "jesus\n",
      "thou\n",
      "ye\n",
      "said\n"
     ]
    }
   ],
   "source": [
    "for index in top_word_indices:\n",
    "    print(cv.get_feature_names()[index])"
   ]
  },
  {
   "cell_type": "markdown",
   "metadata": {},
   "source": [
    "These look like business articles perhaps... Let's confirm by using .transform() on our vectorized articles to attach a label number. But first, let's view all the 10 topics found."
   ]
  },
  {
   "cell_type": "code",
   "execution_count": 19,
   "metadata": {
    "scrolled": false
   },
   "outputs": [
    {
     "name": "stdout",
     "output_type": "stream",
     "text": [
      "THE TOP 15 WORDS FOR TOPIC #0\n",
      "['world', 'kingdom', 'house', 'people', 'spake', 'cast', 'did', 'away', 'heaven', 'forth', 'took', 'know', 'lord', 'heard', 'called', 'sent', 'behold', 'day', 'saw', 'answered', 'saith', 'things', 'thy', 'went', 'son', 'say', 'thee', 'father', 'saying', 'came', 'man', 'jesus', 'thou', 'ye', 'said']\n",
      "\n",
      "\n",
      "THE TOP 15 WORDS FOR TOPIC #1\n",
      "['israel', 'mouth', 'glory', 'hear', 'children', 'away', 'wicked', 'zion', 'forth', 'enemies', 'great', 'fear', 'yea', 'strength', 'art', 'righteousness', 'mercy', 'day', 'make', 'man', 'thine', 'hand', 'praise', 'soul', 'heart', 'like', 'earth', 'ye', 'people', 'hast', 'let', 'thee', 'thou', 'thy', 'lord']\n",
      "\n",
      "\n",
      "THE TOP 15 WORDS FOR TOPIC #2\n",
      "['city', 'pass', 'hast', 'egypt', 'bring', 'hosts', 'word', 'babylon', 'make', 'forth', 'earth', 'jerusalem', 'say', 'came', 'hand', 'shalt', 'saying', 'thereof', 'judah', 'said', 'son', 'day', 'king', 'man', 'people', 'house', 'behold', 'israel', 'land', 'thy', 'ye', 'thou', 'saith', 'thee', 'lord']\n",
      "\n",
      "\n",
      "THE TOP 15 WORDS FOR TOPIC #3\n",
      "['water', 'meat', 'oil', 'seven', 'according', 'spake', 'bring', 'unclean', 'saying', 'blood', 'people', 'sons', 'offer', 'sin', 'day', 'burnt', 'man', 'altar', 'make', 'thy', 'holy', 'land', 'thereof', 'shalt', 'congregation', 'thou', 'tabernacle', 'israel', 'aaron', 'priest', 'children', 'ye', 'offering', 'moses', 'lord']\n",
      "\n",
      "\n",
      "THE TOP 15 WORDS FOR TOPIC #4\n",
      "['years', 'fathers', 'ye', 'sent', 'behold', 'brought', 'thousand', 'pass', 'let', 'jerusalem', 'city', 'took', 'land', 'saying', 'father', 'judah', 'man', 'day', 'hand', 'did', 'thy', 'sons', 'went', 'thee', 'people', 'thou', 'children', 'david', 'came', 'house', 'son', 'israel', 'said', 'king', 'lord']\n",
      "\n",
      "\n",
      "THE TOP 15 WORDS FOR TOPIC #5\n",
      "['wife', 'bring', 'brought', 'commanded', 'brother', 'mount', 'hast', 'pass', 'say', 'days', 'did', 'earth', 'came', 'moses', 'heart', 'eat', 'let', 'make', 'children', 'israel', 'hand', 'man', 'day', 'thine', 'pharaoh', 'egypt', 'said', 'people', 'ye', 'land', 'shalt', 'thee', 'lord', 'thy', 'thou']\n",
      "\n",
      "\n",
      "THE TOP 15 WORDS FOR TOPIC #6\n",
      "['lips', 'time', 'thereof', 'hast', 'days', 'fool', 'soul', 'know', 'poor', 'eyes', 'yea', 'said', 'behold', 'knowledge', 'hand', 'good', 'righteous', 'life', 'let', 'away', 'understanding', 'evil', 'way', 'thine', 'earth', 'words', 'mouth', 'wise', 'wisdom', 'wicked', 'thee', 'heart', 'thy', 'man', 'thou']\n",
      "\n",
      "\n",
      "THE TOP 15 WORDS FOR TOPIC #7\n",
      "['written', 'speak', 'body', 'given', 'time', 'world', 'dead', 'word', 'heaven', 'having', 'flesh', 'grace', 'according', 'jews', 'day', 'love', 'power', 'paul', 'know', 'great', 'glory', 'thou', 'good', 'holy', 'brethren', 'spirit', 'law', 'faith', 'let', 'jesus', 'man', 'lord', 'things', 'christ', 'ye']\n",
      "\n",
      "\n"
     ]
    }
   ],
   "source": [
    "for index,topic in enumerate(LDA.components_):\n",
    "    print(f'THE TOP 15 WORDS FOR TOPIC #{index}')\n",
    "    print([cv.get_feature_names()[i] for i in topic.argsort()[-35:]])\n",
    "    print('\\n')"
   ]
  },
  {
   "cell_type": "markdown",
   "metadata": {},
   "source": [
    "### Attaching Discovered Topic Labels to Original Articles"
   ]
  },
  {
   "cell_type": "code",
   "execution_count": 20,
   "metadata": {},
   "outputs": [
    {
     "data": {
      "text/plain": [
       "<66x1946 sparse matrix of type '<class 'numpy.int64'>'\n",
       "\twith 41260 stored elements in Compressed Sparse Row format>"
      ]
     },
     "execution_count": 20,
     "metadata": {},
     "output_type": "execute_result"
    }
   ],
   "source": [
    "dtm"
   ]
  },
  {
   "cell_type": "code",
   "execution_count": 21,
   "metadata": {
    "scrolled": false
   },
   "outputs": [
    {
     "data": {
      "text/plain": [
       "(66, 1946)"
      ]
     },
     "execution_count": 21,
     "metadata": {},
     "output_type": "execute_result"
    }
   ],
   "source": [
    "dtm.shape"
   ]
  },
  {
   "cell_type": "code",
   "execution_count": 22,
   "metadata": {},
   "outputs": [
    {
     "data": {
      "text/plain": [
       "66"
      ]
     },
     "execution_count": 22,
     "metadata": {},
     "output_type": "execute_result"
    }
   ],
   "source": [
    "len(input_data)"
   ]
  },
  {
   "cell_type": "code",
   "execution_count": 23,
   "metadata": {},
   "outputs": [],
   "source": [
    "topic_results = LDA.transform(dtm)"
   ]
  },
  {
   "cell_type": "code",
   "execution_count": 24,
   "metadata": {},
   "outputs": [
    {
     "data": {
      "text/plain": [
       "(66, 8)"
      ]
     },
     "execution_count": 24,
     "metadata": {},
     "output_type": "execute_result"
    }
   ],
   "source": [
    "topic_results.shape"
   ]
  },
  {
   "cell_type": "code",
   "execution_count": 25,
   "metadata": {},
   "outputs": [
    {
     "data": {
      "text/plain": [
       "array([2.05185159e-01, 1.00429356e-05, 1.93415541e-01, 1.00435749e-05,\n",
       "       3.53636784e-01, 2.47722343e-01, 1.00441987e-05, 1.00416118e-05])"
      ]
     },
     "execution_count": 25,
     "metadata": {},
     "output_type": "execute_result"
    }
   ],
   "source": [
    "topic_results[0]"
   ]
  },
  {
   "cell_type": "code",
   "execution_count": 26,
   "metadata": {},
   "outputs": [
    {
     "data": {
      "text/plain": [
       "array([0.21, 0.  , 0.19, 0.  , 0.35, 0.25, 0.  , 0.  ])"
      ]
     },
     "execution_count": 26,
     "metadata": {},
     "output_type": "execute_result"
    }
   ],
   "source": [
    "topic_results[0].round(2)"
   ]
  },
  {
   "cell_type": "code",
   "execution_count": 27,
   "metadata": {},
   "outputs": [
    {
     "data": {
      "text/plain": [
       "4"
      ]
     },
     "execution_count": 27,
     "metadata": {},
     "output_type": "execute_result"
    }
   ],
   "source": [
    "topic_results[0].argmax()"
   ]
  },
  {
   "cell_type": "markdown",
   "metadata": {},
   "source": [
    "This means that our model thinks that the first article belongs to topic #1."
   ]
  },
  {
   "cell_type": "markdown",
   "metadata": {},
   "source": [
    "### Combining with Original Data"
   ]
  },
  {
   "cell_type": "code",
   "execution_count": 28,
   "metadata": {},
   "outputs": [
    {
     "data": {
      "text/html": [
       "<div>\n",
       "<style scoped>\n",
       "    .dataframe tbody tr th:only-of-type {\n",
       "        vertical-align: middle;\n",
       "    }\n",
       "\n",
       "    .dataframe tbody tr th {\n",
       "        vertical-align: top;\n",
       "    }\n",
       "\n",
       "    .dataframe thead th {\n",
       "        text-align: right;\n",
       "    }\n",
       "</style>\n",
       "<table border=\"1\" class=\"dataframe\">\n",
       "  <thead>\n",
       "    <tr style=\"text-align: right;\">\n",
       "      <th></th>\n",
       "      <th>text</th>\n",
       "    </tr>\n",
       "  </thead>\n",
       "  <tbody>\n",
       "    <tr>\n",
       "      <th>0</th>\n",
       "      <td>In the beginning God created the heaven and th...</td>\n",
       "    </tr>\n",
       "    <tr>\n",
       "      <th>1</th>\n",
       "      <td>Now these are the names of the children of Isr...</td>\n",
       "    </tr>\n",
       "    <tr>\n",
       "      <th>2</th>\n",
       "      <td>And the LORD called unto Moses, and spake unto...</td>\n",
       "    </tr>\n",
       "    <tr>\n",
       "      <th>3</th>\n",
       "      <td>And the LORD spake unto Moses in the wildernes...</td>\n",
       "    </tr>\n",
       "    <tr>\n",
       "      <th>4</th>\n",
       "      <td>These be the words which Moses spake unto all ...</td>\n",
       "    </tr>\n",
       "  </tbody>\n",
       "</table>\n",
       "</div>"
      ],
      "text/plain": [
       "                                                text\n",
       "0  In the beginning God created the heaven and th...\n",
       "1  Now these are the names of the children of Isr...\n",
       "2  And the LORD called unto Moses, and spake unto...\n",
       "3  And the LORD spake unto Moses in the wildernes...\n",
       "4  These be the words which Moses spake unto all ..."
      ]
     },
     "execution_count": 28,
     "metadata": {},
     "output_type": "execute_result"
    }
   ],
   "source": [
    "input_data.head()"
   ]
  },
  {
   "cell_type": "code",
   "execution_count": 29,
   "metadata": {},
   "outputs": [
    {
     "data": {
      "text/plain": [
       "array([4, 5, 3, 3, 5, 4, 4, 4, 4, 4, 4, 4, 4, 4, 4, 4, 4, 6, 1, 6, 6, 1,\n",
       "       1, 2, 1, 2, 2, 2, 2, 2, 2, 1, 2, 1, 1, 2, 2, 2, 2, 0, 0, 0, 0, 7,\n",
       "       7, 7, 7, 7, 7, 7, 7, 7, 7, 7, 7, 7, 7, 7, 7, 7, 7, 7, 7, 7, 7, 7],\n",
       "      dtype=int64)"
      ]
     },
     "execution_count": 29,
     "metadata": {},
     "output_type": "execute_result"
    }
   ],
   "source": [
    "topic_results.argmax(axis=1)"
   ]
  },
  {
   "cell_type": "code",
   "execution_count": 30,
   "metadata": {},
   "outputs": [
    {
     "data": {
      "text/plain": [
       "66"
      ]
     },
     "execution_count": 30,
     "metadata": {},
     "output_type": "execute_result"
    }
   ],
   "source": [
    "len(topic_results.argmax(axis=1))"
   ]
  },
  {
   "cell_type": "code",
   "execution_count": 31,
   "metadata": {},
   "outputs": [
    {
     "data": {
      "text/plain": [
       "(66, 1)"
      ]
     },
     "execution_count": 31,
     "metadata": {},
     "output_type": "execute_result"
    }
   ],
   "source": [
    "input_data.shape"
   ]
  },
  {
   "cell_type": "code",
   "execution_count": 32,
   "metadata": {},
   "outputs": [],
   "source": [
    "input_data['Topic'] = topic_results.argmax(axis=1)"
   ]
  },
  {
   "cell_type": "code",
   "execution_count": 37,
   "metadata": {},
   "outputs": [
    {
     "data": {
      "text/html": [
       "<div>\n",
       "<style scoped>\n",
       "    .dataframe tbody tr th:only-of-type {\n",
       "        vertical-align: middle;\n",
       "    }\n",
       "\n",
       "    .dataframe tbody tr th {\n",
       "        vertical-align: top;\n",
       "    }\n",
       "\n",
       "    .dataframe thead th {\n",
       "        text-align: right;\n",
       "    }\n",
       "</style>\n",
       "<table border=\"1\" class=\"dataframe\">\n",
       "  <thead>\n",
       "    <tr style=\"text-align: right;\">\n",
       "      <th></th>\n",
       "      <th>text</th>\n",
       "      <th>Topic</th>\n",
       "    </tr>\n",
       "  </thead>\n",
       "  <tbody>\n",
       "    <tr>\n",
       "      <th>1</th>\n",
       "      <td>In the beginning God created the heaven and th...</td>\n",
       "      <td>4</td>\n",
       "    </tr>\n",
       "    <tr>\n",
       "      <th>2</th>\n",
       "      <td>Now these are the names of the children of Isr...</td>\n",
       "      <td>5</td>\n",
       "    </tr>\n",
       "    <tr>\n",
       "      <th>3</th>\n",
       "      <td>And the LORD called unto Moses, and spake unto...</td>\n",
       "      <td>3</td>\n",
       "    </tr>\n",
       "    <tr>\n",
       "      <th>4</th>\n",
       "      <td>And the LORD spake unto Moses in the wildernes...</td>\n",
       "      <td>3</td>\n",
       "    </tr>\n",
       "    <tr>\n",
       "      <th>5</th>\n",
       "      <td>These be the words which Moses spake unto all ...</td>\n",
       "      <td>5</td>\n",
       "    </tr>\n",
       "    <tr>\n",
       "      <th>6</th>\n",
       "      <td>Now after the death of Moses the servant of th...</td>\n",
       "      <td>4</td>\n",
       "    </tr>\n",
       "    <tr>\n",
       "      <th>7</th>\n",
       "      <td>Now after the death of Joshua it came to pass,...</td>\n",
       "      <td>4</td>\n",
       "    </tr>\n",
       "    <tr>\n",
       "      <th>8</th>\n",
       "      <td>Now it came to pass in the days when the judge...</td>\n",
       "      <td>4</td>\n",
       "    </tr>\n",
       "    <tr>\n",
       "      <th>9</th>\n",
       "      <td>Now there was a certain man of Ramathaimzophim...</td>\n",
       "      <td>4</td>\n",
       "    </tr>\n",
       "    <tr>\n",
       "      <th>10</th>\n",
       "      <td>Now it came to pass after the death of Saul, w...</td>\n",
       "      <td>4</td>\n",
       "    </tr>\n",
       "  </tbody>\n",
       "</table>\n",
       "</div>"
      ],
      "text/plain": [
       "                                                 text  Topic\n",
       "1   In the beginning God created the heaven and th...      4\n",
       "2   Now these are the names of the children of Isr...      5\n",
       "3   And the LORD called unto Moses, and spake unto...      3\n",
       "4   And the LORD spake unto Moses in the wildernes...      3\n",
       "5   These be the words which Moses spake unto all ...      5\n",
       "6   Now after the death of Moses the servant of th...      4\n",
       "7   Now after the death of Joshua it came to pass,...      4\n",
       "8   Now it came to pass in the days when the judge...      4\n",
       "9   Now there was a certain man of Ramathaimzophim...      4\n",
       "10  Now it came to pass after the death of Saul, w...      4"
      ]
     },
     "execution_count": 37,
     "metadata": {},
     "output_type": "execute_result"
    }
   ],
   "source": [
    "input_data.head(10)"
   ]
  },
  {
   "cell_type": "code",
   "execution_count": null,
   "metadata": {},
   "outputs": [],
   "source": []
  }
 ],
 "metadata": {
  "kernelspec": {
   "display_name": "Python 3",
   "language": "python",
   "name": "python3"
  },
  "language_info": {
   "codemirror_mode": {
    "name": "ipython",
    "version": 3
   },
   "file_extension": ".py",
   "mimetype": "text/x-python",
   "name": "python",
   "nbconvert_exporter": "python",
   "pygments_lexer": "ipython3",
   "version": "3.7.1"
  }
 },
 "nbformat": 4,
 "nbformat_minor": 2
}
